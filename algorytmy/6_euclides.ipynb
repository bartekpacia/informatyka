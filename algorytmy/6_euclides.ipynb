{
 "metadata": {
  "language_info": {
   "codemirror_mode": {
    "name": "ipython",
    "version": 3
   },
   "file_extension": ".py",
   "mimetype": "text/x-python",
   "name": "python",
   "nbconvert_exporter": "python",
   "pygments_lexer": "ipython3",
   "version": "3.9.0-final"
  },
  "orig_nbformat": 2,
  "kernelspec": {
   "name": "python3",
   "display_name": "Python 3"
  }
 },
 "nbformat": 4,
 "nbformat_minor": 2,
 "cells": [
  {
   "source": [
    "# The Euclidean Algorithm\n",
    "Finds the greatest common divisor (GCD) of two numbers.\n",
    "\n",
    "The two most common ways to implement it is:\n",
    "- using subtraction\n",
    "- using division and modulus\n"
   ],
   "cell_type": "markdown",
   "metadata": {}
  },
  {
   "cell_type": "code",
   "execution_count": 2,
   "metadata": {},
   "outputs": [],
   "source": [
    "def gcd_sub(a: int, b: int) -> int:\n",
    "    print(\"napierdalamyyyy\")\n",
    "\n",
    "    # while b != 0:\n",
    "    #     temp = a\n",
    "    #     a = b\n",
    "    #     b = temp - b\n",
    "    # return a\n",
    "    return \"dupcia\""
   ]
  },
  {
   "source": [
    "Running the above code on the some test data yields the following results:"
   ],
   "cell_type": "markdown",
   "metadata": {}
  },
  {
   "cell_type": "code",
   "execution_count": 1,
   "metadata": {},
   "outputs": [
    {
     "output_type": "error",
     "ename": "NameError",
     "evalue": "name 'gcd_sub' is not defined",
     "traceback": [
      "\u001b[0;31m---------------------------------------------------------------------------\u001b[0m",
      "\u001b[0;31mNameError\u001b[0m                                 Traceback (most recent call last)",
      "\u001b[0;32m<ipython-input-1-2dd085e79242>\u001b[0m in \u001b[0;36m<module>\u001b[0;34m\u001b[0m\n\u001b[0;32m----> 1\u001b[0;31m \u001b[0mgcd1\u001b[0m \u001b[0;34m=\u001b[0m \u001b[0mgcd_sub\u001b[0m\u001b[0;34m(\u001b[0m\u001b[0;36m1\u001b[0m\u001b[0;34m,\u001b[0m \u001b[0;36m1\u001b[0m\u001b[0;34m)\u001b[0m\u001b[0;34m\u001b[0m\u001b[0;34m\u001b[0m\u001b[0m\n\u001b[0m\u001b[1;32m      2\u001b[0m \u001b[0mgcd2\u001b[0m \u001b[0;34m=\u001b[0m \u001b[0mgcd_sub\u001b[0m\u001b[0;34m(\u001b[0m\u001b[0;36m10\u001b[0m\u001b[0;34m,\u001b[0m \u001b[0;36m20\u001b[0m\u001b[0;34m)\u001b[0m\u001b[0;34m\u001b[0m\u001b[0;34m\u001b[0m\u001b[0m\n\u001b[1;32m      3\u001b[0m \u001b[0mgcd3\u001b[0m \u001b[0;34m=\u001b[0m \u001b[0mgcd_sub\u001b[0m\u001b[0;34m(\u001b[0m\u001b[0;36m256\u001b[0m\u001b[0;34m,\u001b[0m \u001b[0;36m1024\u001b[0m\u001b[0;34m)\u001b[0m\u001b[0;34m\u001b[0m\u001b[0;34m\u001b[0m\u001b[0m\n\u001b[1;32m      4\u001b[0m \u001b[0mgcd4\u001b[0m \u001b[0;34m=\u001b[0m \u001b[0mgcd_sub\u001b[0m\u001b[0;34m(\u001b[0m\u001b[0;36m256\u001b[0m\u001b[0;34m,\u001b[0m \u001b[0;36m513\u001b[0m\u001b[0;34m)\u001b[0m\u001b[0;34m\u001b[0m\u001b[0;34m\u001b[0m\u001b[0m\n\u001b[1;32m      5\u001b[0m \u001b[0;34m\u001b[0m\u001b[0m\n",
      "\u001b[0;31mNameError\u001b[0m: name 'gcd_sub' is not defined"
     ]
    }
   ],
   "source": [
    "gcd1 = gcd_sub(1, 1)\n",
    "gcd2 = gcd_sub(10, 20)\n",
    "gcd3 = gcd_sub(256, 1024)\n",
    "gcd4 = gcd_sub(256, 513)\n",
    "\n",
    "print(f\"{gcd1=}\")\n",
    "print(f\"{gcd2=}\")\n",
    "print(f\"{gcd3=}\")\n",
    "print(f\"{gcd4=}\")"
   ]
  }
 ]
}